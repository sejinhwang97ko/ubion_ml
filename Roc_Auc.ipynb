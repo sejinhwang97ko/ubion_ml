{
 "cells": [
  {
   "cell_type": "code",
   "execution_count": 1,
   "metadata": {},
   "outputs": [
    {
     "data": {
      "text/html": [
       "<div>\n",
       "<style scoped>\n",
       "    .dataframe tbody tr th:only-of-type {\n",
       "        vertical-align: middle;\n",
       "    }\n",
       "\n",
       "    .dataframe tbody tr th {\n",
       "        vertical-align: top;\n",
       "    }\n",
       "\n",
       "    .dataframe thead th {\n",
       "        text-align: right;\n",
       "    }\n",
       "</style>\n",
       "<table border=\"1\" class=\"dataframe\">\n",
       "  <thead>\n",
       "    <tr style=\"text-align: right;\">\n",
       "      <th></th>\n",
       "      <th>PassengerId</th>\n",
       "      <th>Survived</th>\n",
       "      <th>Pclass</th>\n",
       "      <th>Name</th>\n",
       "      <th>Sex</th>\n",
       "      <th>Age</th>\n",
       "      <th>SibSp</th>\n",
       "      <th>Parch</th>\n",
       "      <th>Ticket</th>\n",
       "      <th>Fare</th>\n",
       "      <th>Cabin</th>\n",
       "      <th>Embarked</th>\n",
       "    </tr>\n",
       "  </thead>\n",
       "  <tbody>\n",
       "    <tr>\n",
       "      <th>0</th>\n",
       "      <td>1</td>\n",
       "      <td>0</td>\n",
       "      <td>3</td>\n",
       "      <td>Braund, Mr. Owen Harris</td>\n",
       "      <td>male</td>\n",
       "      <td>22.0</td>\n",
       "      <td>1</td>\n",
       "      <td>0</td>\n",
       "      <td>A/5 21171</td>\n",
       "      <td>7.2500</td>\n",
       "      <td>NaN</td>\n",
       "      <td>S</td>\n",
       "    </tr>\n",
       "    <tr>\n",
       "      <th>1</th>\n",
       "      <td>2</td>\n",
       "      <td>1</td>\n",
       "      <td>1</td>\n",
       "      <td>Cumings, Mrs. John Bradley (Florence Briggs Th...</td>\n",
       "      <td>female</td>\n",
       "      <td>38.0</td>\n",
       "      <td>1</td>\n",
       "      <td>0</td>\n",
       "      <td>PC 17599</td>\n",
       "      <td>71.2833</td>\n",
       "      <td>C85</td>\n",
       "      <td>C</td>\n",
       "    </tr>\n",
       "    <tr>\n",
       "      <th>2</th>\n",
       "      <td>3</td>\n",
       "      <td>1</td>\n",
       "      <td>3</td>\n",
       "      <td>Heikkinen, Miss. Laina</td>\n",
       "      <td>female</td>\n",
       "      <td>26.0</td>\n",
       "      <td>0</td>\n",
       "      <td>0</td>\n",
       "      <td>STON/O2. 3101282</td>\n",
       "      <td>7.9250</td>\n",
       "      <td>NaN</td>\n",
       "      <td>S</td>\n",
       "    </tr>\n",
       "  </tbody>\n",
       "</table>\n",
       "</div>"
      ],
      "text/plain": [
       "   PassengerId  Survived  Pclass  \\\n",
       "0            1         0       3   \n",
       "1            2         1       1   \n",
       "2            3         1       3   \n",
       "\n",
       "                                                Name     Sex   Age  SibSp  \\\n",
       "0                            Braund, Mr. Owen Harris    male  22.0      1   \n",
       "1  Cumings, Mrs. John Bradley (Florence Briggs Th...  female  38.0      1   \n",
       "2                             Heikkinen, Miss. Laina  female  26.0      0   \n",
       "\n",
       "   Parch            Ticket     Fare Cabin Embarked  \n",
       "0      0         A/5 21171   7.2500   NaN        S  \n",
       "1      0          PC 17599  71.2833   C85        C  \n",
       "2      0  STON/O2. 3101282   7.9250   NaN        S  "
      ]
     },
     "execution_count": 1,
     "metadata": {},
     "output_type": "execute_result"
    }
   ],
   "source": [
    "import numpy as np\n",
    "import pandas as pd\n",
    "import matplotlib.pyplot as plt\n",
    "import seaborn as sns\n",
    "from sklearn.preprocessing import LabelEncoder\n",
    "\n",
    "titanic_df = pd.read_csv('./datasets/titanic_train.csv')\n",
    "titanic_df.head(3)"
   ]
  },
  {
   "cell_type": "markdown",
   "metadata": {},
   "source": [
    "## sklearn.metrics.roc_curve\n",
    "* sklearn.metrics.roc_curve(y_true, y_score, *, pos_label=None, sample_weight=None, drop_intermediate=True)\n",
    "\n",
    "    Returns:\n",
    "    fpr:ndarray of shape (>2,)\n",
    "    Increasing false positive rates such that element i is the false positive rate of predictions with score >= thresholds[i].\n",
    "\n",
    "    tpr:ndarray of shape (>2,)\n",
    "    Increasing true positive rates such that element i is the true positive rate of predictions with score >= thresholds[i].\n",
    "\n",
    "    thresholds:ndarray of shape = (n_thresholds,)\n",
    "    Decreasing thresholds on the decision function used to compute fpr and tpr. thresholds[0] represents no instances being predicted and is arbitrarily set to max(y_score) + 1."
   ]
  },
  {
   "cell_type": "code",
   "execution_count": 2,
   "metadata": {},
   "outputs": [],
   "source": [
    "def fillna_features(df):\n",
    "    df['Age'].fillna(df['Age'].mean(),inplace=True)\n",
    "    return df\n",
    "\n",
    "def drop_features(df):\n",
    "    df.drop(['PassengerId', 'Name', 'SibSp',\n",
    "       'Parch', 'Ticket', 'Fare', 'Cabin', 'Embarked'],axis=1,inplace=True)\n",
    "    return df\n",
    "\n",
    "def format_features(df):\n",
    "    encoder = LabelEncoder()\n",
    "    encoder.fit(df['Sex'])\n",
    "    df['Sex'] = encoder.transform(df['Sex'])\n",
    "    return df\n",
    "\n",
    "def transform_features(df):\n",
    "    df = fillna_features(df)\n",
    "    df = drop_features(df)\n",
    "    df = format_features(df)\n",
    "    return df"
   ]
  },
  {
   "cell_type": "code",
   "execution_count": 3,
   "metadata": {},
   "outputs": [],
   "source": [
    "y_titanic_df = titanic_df['Survived']\n",
    "X_titanic_df= titanic_df.drop('Survived',axis=1)\n",
    "X_titanic_df = transform_features(X_titanic_df)\n",
    "from sklearn.model_selection import train_test_split\n",
    "X_train, X_test, y_train, y_test=train_test_split(X_titanic_df, y_titanic_df, \\\n",
    "                                                  test_size=0.2, random_state=11)"
   ]
  },
  {
   "cell_type": "code",
   "execution_count": 4,
   "metadata": {},
   "outputs": [],
   "source": [
    "from sklearn.metrics import roc_curve\n",
    "from sklearn.linear_model import LogisticRegression\n",
    "lr_clf = LogisticRegression()\n",
    "lr_clf.fit(X_train , y_train)\n",
    "pred_proba_class1 = lr_clf.predict_proba(X_test)[:,1]\n",
    "#roc_auc 평가 위해서 양성인 곳이 0과 1 중에 1에 있음을 확인해서\n",
    "#[:,1]로 함"
   ]
  },
  {
   "cell_type": "code",
   "execution_count": 5,
   "metadata": {},
   "outputs": [
    {
     "data": {
      "text/plain": [
       "array([[0.44781358, 0.55218642],\n",
       "       [0.89023075, 0.10976925],\n",
       "       [0.89752171, 0.10247829],\n",
       "       [0.86466451, 0.13533549],\n",
       "       [0.75812794, 0.24187206],\n",
       "       [0.85434917, 0.14565083],\n",
       "       [0.89752171, 0.10247829],\n",
       "       [0.33510303, 0.66489697],\n",
       "       [0.71971405, 0.28028595],\n",
       "       [0.32644462, 0.67355538],\n",
       "       [0.87119387, 0.12880613],\n",
       "       [0.86256142, 0.13743858],\n",
       "       [0.89752171, 0.10247829],\n",
       "       [0.89752171, 0.10247829],\n",
       "       [0.49595405, 0.50404595],\n",
       "       [0.87551989, 0.12448011],\n",
       "       [0.89752171, 0.10247829],\n",
       "       [0.71971405, 0.28028595],\n",
       "       [0.63693828, 0.36306172],\n",
       "       [0.26366186, 0.73633814],\n",
       "       [0.73662511, 0.26337489],\n",
       "       [0.63032568, 0.36967432],\n",
       "       [0.87238203, 0.12761797],\n",
       "       [0.87551989, 0.12448011],\n",
       "       [0.89752171, 0.10247829],\n",
       "       [0.7459071 , 0.2540929 ],\n",
       "       [0.8317686 , 0.1682314 ],\n",
       "       [0.89752171, 0.10247829],\n",
       "       [0.70807897, 0.29192103],\n",
       "       [0.61020101, 0.38979899],\n",
       "       [0.08350277, 0.91649723],\n",
       "       [0.22744251, 0.77255749],\n",
       "       [0.89023075, 0.10976925],\n",
       "       [0.28058432, 0.71941568],\n",
       "       [0.63032568, 0.36967432],\n",
       "       [0.7459071 , 0.2540929 ],\n",
       "       [0.90585253, 0.09414747],\n",
       "       [0.38762445, 0.61237555],\n",
       "       [0.91513088, 0.08486912],\n",
       "       [0.90339492, 0.09660508],\n",
       "       [0.70807897, 0.29192103],\n",
       "       [0.88741603, 0.11258397],\n",
       "       [0.2104012 , 0.7895988 ],\n",
       "       [0.18771337, 0.81228663],\n",
       "       [0.44781358, 0.55218642],\n",
       "       [0.44781358, 0.55218642],\n",
       "       [0.13974673, 0.86025327],\n",
       "       [0.50673646, 0.49326354],\n",
       "       [0.07001181, 0.92998819],\n",
       "       [0.89752171, 0.10247829],\n",
       "       [0.49595405, 0.50404595],\n",
       "       [0.89752171, 0.10247829],\n",
       "       [0.88159724, 0.11840276],\n",
       "       [0.28637012, 0.71362988],\n",
       "       [0.6839814 , 0.3160186 ],\n",
       "       [0.78085036, 0.21914964],\n",
       "       [0.72896639, 0.27103361],\n",
       "       [0.89752171, 0.10247829],\n",
       "       [0.86590363, 0.13409637],\n",
       "       [0.49595405, 0.50404595],\n",
       "       [0.70807897, 0.29192103],\n",
       "       [0.8845385 , 0.1154615 ],\n",
       "       [0.49595405, 0.50404595],\n",
       "       [0.49595405, 0.50404595],\n",
       "       [0.67546629, 0.32453371],\n",
       "       [0.9106002 , 0.0893998 ],\n",
       "       [0.39440739, 0.60559261],\n",
       "       [0.45699349, 0.54300651],\n",
       "       [0.05809047, 0.94190953],\n",
       "       [0.89752171, 0.10247829],\n",
       "       [0.85914946, 0.14085054],\n",
       "       [0.85566697, 0.14433303],\n",
       "       [0.90339492, 0.09660508],\n",
       "       [0.06128733, 0.93871267],\n",
       "       [0.77840333, 0.22159667],\n",
       "       [0.89752171, 0.10247829],\n",
       "       [0.56448579, 0.43551421],\n",
       "       [0.79279284, 0.20720716],\n",
       "       [0.17502936, 0.82497064],\n",
       "       [0.89752171, 0.10247829],\n",
       "       [0.23503773, 0.76496227],\n",
       "       [0.44289439, 0.55710561],\n",
       "       [0.08350277, 0.91649723],\n",
       "       [0.80648026, 0.19351974],\n",
       "       [0.06639205, 0.93360795],\n",
       "       [0.05966885, 0.94033115],\n",
       "       [0.89433708, 0.10566292],\n",
       "       [0.89567546, 0.10432454],\n",
       "       [0.12464135, 0.87535865],\n",
       "       [0.89752171, 0.10247829],\n",
       "       [0.89752171, 0.10247829],\n",
       "       [0.7459071 , 0.2540929 ],\n",
       "       [0.73662511, 0.26337489],\n",
       "       [0.89752171, 0.10247829],\n",
       "       [0.44781358, 0.55218642],\n",
       "       [0.9255586 , 0.0744414 ],\n",
       "       [0.06817967, 0.93182033],\n",
       "       [0.90585253, 0.09414747],\n",
       "       [0.56187069, 0.43812931],\n",
       "       [0.07188938, 0.92811062],\n",
       "       [0.38762445, 0.61237555],\n",
       "       [0.79453364, 0.20546636],\n",
       "       [0.08199128, 0.91800872],\n",
       "       [0.90825397, 0.09174603],\n",
       "       [0.43587775, 0.56412225],\n",
       "       [0.8845385 , 0.1154615 ],\n",
       "       [0.87551989, 0.12448011],\n",
       "       [0.89752171, 0.10247829],\n",
       "       [0.32253081, 0.67746919],\n",
       "       [0.89752171, 0.10247829],\n",
       "       [0.85434917, 0.14565083],\n",
       "       [0.89960109, 0.10039891],\n",
       "       [0.57147543, 0.42852457],\n",
       "       [0.46964837, 0.53035163],\n",
       "       [0.89752171, 0.10247829],\n",
       "       [0.89298358, 0.10701642],\n",
       "       [0.84711578, 0.15288422],\n",
       "       [0.77840333, 0.22159667],\n",
       "       [0.12043586, 0.87956414],\n",
       "       [0.93123662, 0.06876338],\n",
       "       [0.89752171, 0.10247829],\n",
       "       [0.88741603, 0.11258397],\n",
       "       [0.92153686, 0.07846314],\n",
       "       [0.57732555, 0.42267445],\n",
       "       [0.89752171, 0.10247829],\n",
       "       [0.89752171, 0.10247829],\n",
       "       [0.86256142, 0.13743858],\n",
       "       [0.67779219, 0.32220781],\n",
       "       [0.36754443, 0.63245557],\n",
       "       [0.761387  , 0.238613  ],\n",
       "       [0.07188938, 0.92811062],\n",
       "       [0.53365279, 0.46634721],\n",
       "       [0.34147941, 0.65852059],\n",
       "       [0.51385473, 0.48614527],\n",
       "       [0.42192392, 0.57807608],\n",
       "       [0.51385473, 0.48614527],\n",
       "       [0.23503773, 0.76496227],\n",
       "       [0.75617335, 0.24382665],\n",
       "       [0.90339492, 0.09660508],\n",
       "       [0.12348616, 0.87651384],\n",
       "       [0.13974673, 0.86025327],\n",
       "       [0.89752171, 0.10247829],\n",
       "       [0.90088018, 0.09911982],\n",
       "       [0.8081339 , 0.1918661 ],\n",
       "       [0.91289218, 0.08710782],\n",
       "       [0.18771337, 0.81228663],\n",
       "       [0.9255586 , 0.0744414 ],\n",
       "       [0.67546629, 0.32453371],\n",
       "       [0.08350277, 0.91649723],\n",
       "       [0.76842062, 0.23157938],\n",
       "       [0.49595405, 0.50404595],\n",
       "       [0.40809364, 0.59190636],\n",
       "       [0.36754443, 0.63245557],\n",
       "       [0.89752171, 0.10247829],\n",
       "       [0.18771337, 0.81228663],\n",
       "       [0.07188938, 0.92811062],\n",
       "       [0.49097623, 0.50902377],\n",
       "       [0.88159724, 0.11840276],\n",
       "       [0.31021021, 0.68978979],\n",
       "       [0.39440739, 0.60559261],\n",
       "       [0.86917689, 0.13082311],\n",
       "       [0.18771337, 0.81228663],\n",
       "       [0.91289218, 0.08710782],\n",
       "       [0.39440739, 0.60559261],\n",
       "       [0.44781358, 0.55218642],\n",
       "       [0.40809364, 0.59190636],\n",
       "       [0.1615851 , 0.8384149 ],\n",
       "       [0.60340466, 0.39659534],\n",
       "       [0.91289218, 0.08710782],\n",
       "       [0.09098629, 0.90901371],\n",
       "       [0.89752171, 0.10247829],\n",
       "       [0.1156126 , 0.8843874 ],\n",
       "       [0.7421142 , 0.2578858 ],\n",
       "       [0.69616481, 0.30383519],\n",
       "       [0.52807156, 0.47192844],\n",
       "       [0.93651127, 0.06348873],\n",
       "       [0.87551989, 0.12448011],\n",
       "       [0.49595405, 0.50404595],\n",
       "       [0.4625598 , 0.5374402 ]])"
      ]
     },
     "execution_count": 5,
     "metadata": {},
     "output_type": "execute_result"
    }
   ],
   "source": [
    "lr_clf.predict_proba(X_test)"
   ]
  },
  {
   "cell_type": "code",
   "execution_count": 6,
   "metadata": {},
   "outputs": [
    {
     "data": {
      "text/plain": [
       "431    1\n",
       "821    1\n",
       "629    0\n",
       "626    0\n",
       "665    0\n",
       "      ..\n",
       "638    0\n",
       "771    0\n",
       "521    0\n",
       "711    0\n",
       "484    1\n",
       "Name: Survived, Length: 179, dtype: int64"
      ]
     },
     "execution_count": 6,
     "metadata": {},
     "output_type": "execute_result"
    }
   ],
   "source": [
    "y_test"
   ]
  },
  {
   "cell_type": "code",
   "execution_count": 22,
   "metadata": {},
   "outputs": [],
   "source": [
    "fprs, tprs, thresholds = roc_curve(y_test, pred_proba_class1)"
   ]
  },
  {
   "cell_type": "code",
   "execution_count": 23,
   "metadata": {},
   "outputs": [
    {
     "data": {
      "text/plain": [
       "array([1.94190953, 0.94190953, 0.92998819, 0.92811062, 0.91800872,\n",
       "       0.91649723, 0.87535865, 0.86025327, 0.82497064, 0.81228663,\n",
       "       0.77255749, 0.76496227, 0.71362988, 0.67746919, 0.65852059,\n",
       "       0.63245557, 0.61237555, 0.60559261, 0.59190636, 0.56412225,\n",
       "       0.55710561, 0.55218642, 0.53035163, 0.50902377, 0.50404595,\n",
       "       0.49326354, 0.48614527, 0.47192844, 0.46634721, 0.43812931,\n",
       "       0.42852457, 0.42267445, 0.39659534, 0.38979899, 0.36967432,\n",
       "       0.36306172, 0.32453371, 0.30383519, 0.29192103, 0.28028595,\n",
       "       0.27103361, 0.26337489, 0.2578858 , 0.2540929 , 0.23157938,\n",
       "       0.22159667, 0.15288422, 0.14565083, 0.14085054, 0.13743858,\n",
       "       0.12761797, 0.12448011, 0.11840276, 0.1154615 , 0.11258397,\n",
       "       0.10976925, 0.10566292, 0.10432454, 0.10247829, 0.09911982,\n",
       "       0.09660508, 0.09414747, 0.0893998 , 0.08710782, 0.07846314,\n",
       "       0.0744414 , 0.06348873])"
      ]
     },
     "execution_count": 23,
     "metadata": {},
     "output_type": "execute_result"
    }
   ],
   "source": [
    "thresholds #thresholds[0]은 max(y_score)+1 값임."
   ]
  },
  {
   "cell_type": "code",
   "execution_count": 15,
   "metadata": {},
   "outputs": [
    {
     "data": {
      "image/png": "[encoded data removed]",
      "text/plain": [
       "<Figure size 640x480 with 1 Axes>"
      ]
     },
     "metadata": {},
     "output_type": "display_data"
    }
   ],
   "source": [
    "def roc_curve_plot(y_test, pred_proba_c1):\n",
    "    fprs, tprs, thresholds = roc_curve(y_test, pred_proba_c1)\n",
    "\n",
    "    plt.plot(fprs, tprs, label='ROC')\n",
    "    plt.plot([0,1],[0,1], 'k--', label='Random') #k--는 검은색\n",
    "\n",
    "    start, end = plt.xlim()\n",
    "    plt.xticks(np.round(np.arange(start, end, 0.1),2))\n",
    "    plt.xlim(0,1);plt.ylim(0,1)\n",
    "    plt.xlabel('FPR');plt.ylabel('TPR(Recall)')\n",
    "    plt.legend()\n",
    "    plt.show()\n",
    "\n",
    "roc_curve_plot(y_test, lr_clf.predict_proba(X_test)[:,1])"
   ]
  },
  {
   "cell_type": "markdown",
   "metadata": {},
   "source": [
    "## sklearn.metrics.roc_auc_score\n",
    "* sklearn.metrics.roc_auc_score(y_true, y_score, *, average='macro', sample_weight=None, max_fpr=None, multi_class='raise', labels=None)"
   ]
  },
  {
   "cell_type": "code",
   "execution_count": 17,
   "metadata": {},
   "outputs": [
    {
     "data": {
      "text/plain": [
       "0.8883717699360935"
      ]
     },
     "execution_count": 17,
     "metadata": {},
     "output_type": "execute_result"
    }
   ],
   "source": [
    "from sklearn.metrics import roc_auc_score\n",
    "roc_score = roc_auc_score(y_test, pred_proba_class1)\n",
    "roc_score"
   ]
  },
  {
   "cell_type": "code",
   "execution_count": null,
   "metadata": {},
   "outputs": [],
   "source": []
  }
 ],
 "metadata": {
  "kernelspec": {
   "display_name": "Python 3.7.1 64-bit",
   "language": "python",
   "name": "python3"
  },
  "language_info": {
   "codemirror_mode": {
    "name": "ipython",
    "version": 3
   },
   "file_extension": ".py",
   "mimetype": "text/x-python",
   "name": "python",
   "nbconvert_exporter": "python",
   "pygments_lexer": "ipython3",
   "version": "3.7.1"
  },
  "orig_nbformat": 4,
  "vscode": {
   "interpreter": {
    "hash": "31f8360559af503f7d1219287c80e0cc362e8a430fe9b8335f384415946613ec"
   }
  }
 },
 "nbformat": 4,
 "nbformat_minor": 2
}
