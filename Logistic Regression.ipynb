{
 "cells": [
  {
   "cell_type": "code",
   "execution_count": 46,
   "metadata": {},
   "outputs": [],
   "source": [
    "import pandas as pd\n",
    "import matplotlib.pyplot as plt\n",
    "from sklearn.datasets import load_breast_cancer\n",
    "from sklearn.linear_model import LogisticRegression"
   ]
  },
  {
   "cell_type": "code",
   "execution_count": 47,
   "metadata": {},
   "outputs": [],
   "source": [
    "import sys\n",
    "import warnings\n",
    "\n",
    "import warnings\n",
    "warnings.filterwarnings('ignore')\n"
   ]
  },
  {
   "cell_type": "markdown",
   "metadata": {},
   "source": [
    "## sklearn.linear_model.LogisticRegression\n",
    "* class sklearn.linear_model.LogisticRegression(penalty='l2', *, dual=False, tol=0.0001, C=1.0, fit_intercept=True, intercept_scaling=1, class_weight=None, random_state=None, solver='lbfgs', max_iter=100, multi_class='auto', verbose=0, warm_start=False, n_jobs=None, l1_ratio=None)\n"
   ]
  },
  {
   "cell_type": "markdown",
   "metadata": {},
   "source": [
    "* solver{‘lbfgs’, ‘liblinear’, ‘newton-cg’, ‘newton-cholesky’, ‘sag’, ‘saga’}, default=’lbfgs’\n",
    "    Algorithm to use in the optimization problem. Default is ‘lbfgs’. To choose a solver, you might want to consider the following aspects:\n",
    "\n",
    "    For small datasets, ‘liblinear’ is a good choice, whereas ‘sag’ and ‘saga’ are faster for large ones;\n",
    "\n",
    "    For multiclass problems, only ‘newton-cg’, ‘sag’, ‘saga’ and ‘lbfgs’ handle multinomial loss;\n",
    "\n",
    "    ‘liblinear’ is limited to one-versus-rest schemes.\n",
    "\n",
    "    ‘newton-cholesky’ is a good choice for n_samples >> n_features, especially with one-hot encoded categorical features with rare categories. Note that it is limited to binary classification and the one-versus-rest reduction for multiclass classification. Be aware that the memory usage of this solver has a quadratic dependency on n_features because it explicitly computes the Hessian matrix."
   ]
  },
  {
   "cell_type": "code",
   "execution_count": 48,
   "metadata": {},
   "outputs": [],
   "source": [
    "cancer = load_breast_cancer()"
   ]
  },
  {
   "cell_type": "code",
   "execution_count": 49,
   "metadata": {},
   "outputs": [],
   "source": [
    "from sklearn.preprocessing import StandardScaler\n",
    "from sklearn.model_selection import train_test_split\n",
    "\n",
    "scaler= StandardScaler()\n",
    "data_scaled = scaler.fit_transform(cancer.data)\n",
    "\n",
    "X_train, X_test, y_train, y_test = train_test_split(\\\n",
    "    data_scaled, cancer.target, test_size=0.3)"
   ]
  },
  {
   "cell_type": "code",
   "execution_count": 50,
   "metadata": {},
   "outputs": [
    {
     "name": "stdout",
     "output_type": "stream",
     "text": [
      "0.9649122807017544\n",
      "0.9614864864864865\n"
     ]
    }
   ],
   "source": [
    "from sklearn.metrics import accuracy_score, roc_auc_score\n",
    "\n",
    "lr_clf = LogisticRegression(random_state=0)\n",
    "lr_clf.fit(X_train, y_train)\n",
    "lr_preds= lr_clf.predict(X_test)\n",
    "\n",
    "print(accuracy_score(y_test, lr_preds))\n",
    "print(roc_auc_score(y_test, lr_preds))"
   ]
  },
  {
   "cell_type": "code",
   "execution_count": 51,
   "metadata": {},
   "outputs": [
    {
     "name": "stdout",
     "output_type": "stream",
     "text": [
      "{'C': 1, 'penalty': 'l2'} 0.975392184164114\n"
     ]
    }
   ],
   "source": [
    "from sklearn.model_selection import GridSearchCV\n",
    "\n",
    "params={'penalty':['l2','l1'], 'C':[0.01, 0.1, 1, 5, 10]}\n",
    "\n",
    "grid_clf = GridSearchCV(lr_clf, param_grid=params, \\\n",
    "    scoring='accuracy', cv = 3)\n",
    "grid_clf.fit(data_scaled, cancer.target)\n",
    "print(grid_clf.best_params_, grid_clf.best_score_)"
   ]
  },
  {
   "cell_type": "markdown",
   "metadata": {},
   "source": [
    "* multi_class{‘auto’, ‘ovr’, ‘multinomial’}, default=’auto’\n",
    "    If the option chosen is ‘ovr’, then a binary problem is fit for each label. For ‘multinomial’ the loss minimised is the multinomial loss fit across the entire probability distribution, even when the data is binary. ‘multinomial’ is unavailable when solver=’liblinear’. ‘auto’ selects ‘ovr’ if the data is binary, or if solver=’liblinear’, and otherwise selects ‘multinomial’.\n",
    "\n",
    "    New in version 0.18: Stochastic Average Gradient descent solver for ‘multinomial’ case.\n",
    "\n",
    "    Changed in version 0.22: Default changed from ‘ovr’ to ‘auto’ in 0.22."
   ]
  },
  {
   "cell_type": "code",
   "execution_count": 54,
   "metadata": {},
   "outputs": [
    {
     "data": {
      "text/plain": [
       "array([[1.31716029e-04, 5.98488920e-02, 9.40019392e-01],\n",
       "       [1.33565514e-02, 9.57041781e-01, 2.96016675e-02],\n",
       "       [9.82927047e-01, 1.70728971e-02, 5.56552535e-08],\n",
       "       [1.60489004e-06, 2.60795787e-02, 9.73918816e-01],\n",
       "       [9.68275765e-01, 3.17239990e-02, 2.35580864e-07],\n",
       "       [2.47764187e-06, 6.75430567e-03, 9.93243217e-01],\n",
       "       [9.80358820e-01, 1.96410769e-02, 1.03121750e-07],\n",
       "       [3.00907754e-03, 7.50151524e-01, 2.46839398e-01],\n",
       "       [1.62309775e-03, 7.41284239e-01, 2.57092664e-01],\n",
       "       [2.11392098e-02, 9.32798279e-01, 4.60625107e-02],\n",
       "       [1.02523608e-04, 1.57158717e-01, 8.42738760e-01],\n",
       "       [7.26676157e-03, 8.08697061e-01, 1.84036178e-01],\n",
       "       [4.34749020e-03, 7.83988223e-01, 2.11664287e-01],\n",
       "       [3.23126456e-03, 7.61206968e-01, 2.35561768e-01],\n",
       "       [4.09222646e-03, 7.03027094e-01, 2.92880679e-01],\n",
       "       [9.81573297e-01, 1.84266187e-02, 8.41351910e-08],\n",
       "       [7.01146482e-03, 7.50156985e-01, 2.42831550e-01],\n",
       "       [1.20109647e-02, 8.31519338e-01, 1.56469698e-01],\n",
       "       [9.65461523e-01, 3.45381654e-02, 3.11195415e-07],\n",
       "       [9.81135152e-01, 1.88647625e-02, 8.54094691e-08],\n",
       "       [8.83865774e-04, 1.93959280e-01, 8.05156854e-01],\n",
       "       [1.06517511e-02, 6.98590486e-01, 2.90757762e-01],\n",
       "       [9.41813433e-01, 5.81850732e-02, 1.49338350e-06],\n",
       "       [9.74091292e-01, 2.59084567e-02, 2.50954986e-07],\n",
       "       [1.46235810e-03, 4.31294905e-01, 5.67242736e-01],\n",
       "       [9.93623438e-01, 6.37654668e-03, 1.49741538e-08],\n",
       "       [9.47224174e-01, 5.27742519e-02, 1.57455656e-06],\n",
       "       [1.11671349e-02, 8.96757755e-01, 9.20751096e-02],\n",
       "       [1.43553787e-01, 8.49012767e-01, 7.43344677e-03],\n",
       "       [9.58858847e-01, 4.11405165e-02, 6.36808168e-07],\n",
       "       [1.12327225e-04, 1.20431206e-01, 8.79456467e-01],\n",
       "       [1.23028800e-02, 6.68294051e-01, 3.19403069e-01],\n",
       "       [9.65858248e-01, 3.41415363e-02, 2.15279326e-07],\n",
       "       [1.37188661e-03, 3.61179395e-01, 6.37448718e-01],\n",
       "       [1.76647752e-05, 3.70569762e-02, 9.62925359e-01],\n",
       "       [4.90704677e-02, 8.72311312e-01, 7.86182206e-02],\n",
       "       [9.40784446e-01, 5.92150199e-02, 5.34603538e-07],\n",
       "       [6.49708273e-04, 3.08766860e-01, 6.90583431e-01],\n",
       "       [1.82170894e-02, 8.55200412e-01, 1.26582498e-01],\n",
       "       [2.30459370e-02, 9.29718379e-01, 4.72356838e-02],\n",
       "       [4.22020136e-05, 8.12514660e-02, 9.18706332e-01],\n",
       "       [9.79914215e-01, 2.00856736e-02, 1.11275686e-07],\n",
       "       [1.76215538e-04, 1.55993121e-01, 8.43830663e-01],\n",
       "       [9.60729360e-01, 3.92697016e-02, 9.37944407e-07],\n",
       "       [9.67043675e-01, 3.29561529e-02, 1.72049327e-07]])"
      ]
     },
     "execution_count": 54,
     "metadata": {},
     "output_type": "execute_result"
    }
   ],
   "source": [
    "from sklearn.datasets import load_iris\n",
    "from sklearn.linear_model import LogisticRegression\n",
    "\n",
    "iris = load_iris()\n",
    "X_train, X_test, y_train, y_test = train_test_split(\\\n",
    "    iris.data, iris.target, test_size=0.3, random_state=0)\n",
    "lr = LogisticRegression(random_state=0)\n",
    "lr.fit(X_train, y_train)\n",
    "lr.predict_proba(X_test)"
   ]
  },
  {
   "cell_type": "code",
   "execution_count": 55,
   "metadata": {},
   "outputs": [
    {
     "name": "stdout",
     "output_type": "stream",
     "text": [
      "[2 1 0 2 0 2 0 1 1 1 2 1 1 1 1 0 1 1 0 0 2 1 0 0 2 0 0 1 1 0 2 1 0 2 2 1 0\n",
      " 2 1 1 2 0 2 0 0]\n",
      "0.9777777777777777\n"
     ]
    }
   ],
   "source": [
    "lr_preds= lr.predict(X_test)\n",
    "print(lr_preds)\n",
    "print(accuracy_score(y_test, lr_preds))"
   ]
  },
  {
   "cell_type": "code",
   "execution_count": 56,
   "metadata": {},
   "outputs": [
    {
     "data": {
      "text/plain": [
       "array([[7.24937235e-04, 2.32958500e-01, 7.66316562e-01],\n",
       "       [2.44958162e-02, 9.19568033e-01, 5.59361510e-02],\n",
       "       [9.66252536e-01, 3.37431743e-02, 4.28956375e-06],\n",
       "       [4.46524627e-05, 3.14857812e-01, 6.85097535e-01],\n",
       "       [8.64639796e-01, 1.35351358e-01, 8.84606690e-06],\n",
       "       [1.15801645e-04, 1.48520801e-01, 8.51363397e-01],\n",
       "       [9.00857079e-01, 9.91367684e-02, 6.15241185e-06],\n",
       "       [7.24851498e-03, 4.80178868e-01, 5.12572617e-01],\n",
       "       [3.64042142e-03, 5.63422030e-01, 4.32937549e-01],\n",
       "       [4.89451037e-02, 8.26714243e-01, 1.24340654e-01],\n",
       "       [3.65863594e-04, 4.31798181e-01, 5.67835955e-01],\n",
       "       [1.75762261e-02, 5.20334227e-01, 4.62089546e-01],\n",
       "       [7.27580031e-03, 6.63148700e-01, 3.29575500e-01],\n",
       "       [6.53117799e-03, 5.80335736e-01, 4.13133086e-01],\n",
       "       [6.81018265e-03, 5.56360712e-01, 4.36829105e-01],\n",
       "       [8.93154898e-01, 1.06839676e-01, 5.42675615e-06],\n",
       "       [1.16903381e-02, 5.79073572e-01, 4.09236090e-01],\n",
       "       [1.50936005e-02, 7.64295415e-01, 2.20610984e-01],\n",
       "       [7.95603114e-01, 2.04387148e-01, 9.73788997e-06],\n",
       "       [9.54928857e-01, 4.50655041e-02, 5.63876699e-06],\n",
       "       [1.88504602e-03, 3.15400089e-01, 6.82714865e-01],\n",
       "       [1.48862143e-02, 5.42237345e-01, 4.42876441e-01],\n",
       "       [8.31513742e-01, 1.68458250e-01, 2.80086010e-05],\n",
       "       [7.50357337e-01, 2.49633425e-01, 9.23850069e-06],\n",
       "       [2.63277707e-03, 3.84988564e-01, 6.12378659e-01],\n",
       "       [9.14116773e-01, 8.58806875e-02, 2.53985581e-06],\n",
       "       [9.21159150e-01, 7.88070785e-02, 3.37717110e-05],\n",
       "       [2.48560280e-02, 7.50024427e-01, 2.25119545e-01],\n",
       "       [1.64941156e-01, 8.22566129e-01, 1.24927146e-02],\n",
       "       [8.76709608e-01, 1.23272969e-01, 1.74236789e-05],\n",
       "       [5.20303021e-04, 2.60499764e-01, 7.38979933e-01],\n",
       "       [1.55257671e-02, 5.35264299e-01, 4.49209934e-01],\n",
       "       [8.85804416e-01, 1.14187568e-01, 8.01669445e-06],\n",
       "       [2.60785843e-03, 3.20082072e-01, 6.77310070e-01],\n",
       "       [2.08451995e-04, 2.68890297e-01, 7.30901251e-01],\n",
       "       [6.26245664e-02, 7.96787876e-01, 1.40587558e-01],\n",
       "       [9.31451392e-01, 6.85357854e-02, 1.28227861e-05],\n",
       "       [1.28459465e-03, 4.17910448e-01, 5.80804958e-01],\n",
       "       [3.58139578e-02, 6.62982350e-01, 3.01203692e-01],\n",
       "       [4.02109722e-02, 8.62403919e-01, 9.73851092e-02],\n",
       "       [3.08737782e-04, 2.24651692e-01, 7.75039570e-01],\n",
       "       [8.32437533e-01, 1.67556423e-01, 6.04380224e-06],\n",
       "       [7.50462812e-04, 1.62875231e-01, 8.36374307e-01],\n",
       "       [9.08267508e-01, 9.17071240e-02, 2.53676821e-05],\n",
       "       [9.17929687e-01, 8.20632985e-02, 7.01396099e-06]])"
      ]
     },
     "execution_count": 56,
     "metadata": {},
     "output_type": "execute_result"
    }
   ],
   "source": [
    "lr = LogisticRegression(multi_class='ovr', random_state=0)\n",
    "lr.fit(X_train, y_train)\n",
    "# lr_preds= lr_clf.predict(X_test)\n",
    "lr.predict_proba(X_test)\n"
   ]
  },
  {
   "cell_type": "code",
   "execution_count": 57,
   "metadata": {},
   "outputs": [
    {
     "name": "stdout",
     "output_type": "stream",
     "text": [
      "0.9555555555555556\n"
     ]
    }
   ],
   "source": [
    "lr_preds= lr.predict(X_test)\n",
    "print(accuracy_score(y_test, lr_preds))"
   ]
  },
  {
   "cell_type": "code",
   "execution_count": 58,
   "metadata": {},
   "outputs": [
    {
     "data": {
      "text/plain": [
       "array([[1.31716029e-04, 5.98488920e-02, 9.40019392e-01],\n",
       "       [1.33565514e-02, 9.57041781e-01, 2.96016675e-02],\n",
       "       [9.82927047e-01, 1.70728971e-02, 5.56552535e-08],\n",
       "       [1.60489004e-06, 2.60795787e-02, 9.73918816e-01],\n",
       "       [9.68275765e-01, 3.17239990e-02, 2.35580864e-07],\n",
       "       [2.47764187e-06, 6.75430567e-03, 9.93243217e-01],\n",
       "       [9.80358820e-01, 1.96410769e-02, 1.03121750e-07],\n",
       "       [3.00907754e-03, 7.50151524e-01, 2.46839398e-01],\n",
       "       [1.62309775e-03, 7.41284239e-01, 2.57092664e-01],\n",
       "       [2.11392098e-02, 9.32798279e-01, 4.60625107e-02],\n",
       "       [1.02523608e-04, 1.57158717e-01, 8.42738760e-01],\n",
       "       [7.26676157e-03, 8.08697061e-01, 1.84036178e-01],\n",
       "       [4.34749020e-03, 7.83988223e-01, 2.11664287e-01],\n",
       "       [3.23126456e-03, 7.61206968e-01, 2.35561768e-01],\n",
       "       [4.09222646e-03, 7.03027094e-01, 2.92880679e-01],\n",
       "       [9.81573297e-01, 1.84266187e-02, 8.41351910e-08],\n",
       "       [7.01146482e-03, 7.50156985e-01, 2.42831550e-01],\n",
       "       [1.20109647e-02, 8.31519338e-01, 1.56469698e-01],\n",
       "       [9.65461523e-01, 3.45381654e-02, 3.11195415e-07],\n",
       "       [9.81135152e-01, 1.88647625e-02, 8.54094691e-08],\n",
       "       [8.83865774e-04, 1.93959280e-01, 8.05156854e-01],\n",
       "       [1.06517511e-02, 6.98590486e-01, 2.90757762e-01],\n",
       "       [9.41813433e-01, 5.81850732e-02, 1.49338350e-06],\n",
       "       [9.74091292e-01, 2.59084567e-02, 2.50954986e-07],\n",
       "       [1.46235810e-03, 4.31294905e-01, 5.67242736e-01],\n",
       "       [9.93623438e-01, 6.37654668e-03, 1.49741538e-08],\n",
       "       [9.47224174e-01, 5.27742519e-02, 1.57455656e-06],\n",
       "       [1.11671349e-02, 8.96757755e-01, 9.20751096e-02],\n",
       "       [1.43553787e-01, 8.49012767e-01, 7.43344677e-03],\n",
       "       [9.58858847e-01, 4.11405165e-02, 6.36808168e-07],\n",
       "       [1.12327225e-04, 1.20431206e-01, 8.79456467e-01],\n",
       "       [1.23028800e-02, 6.68294051e-01, 3.19403069e-01],\n",
       "       [9.65858248e-01, 3.41415363e-02, 2.15279326e-07],\n",
       "       [1.37188661e-03, 3.61179395e-01, 6.37448718e-01],\n",
       "       [1.76647752e-05, 3.70569762e-02, 9.62925359e-01],\n",
       "       [4.90704677e-02, 8.72311312e-01, 7.86182206e-02],\n",
       "       [9.40784446e-01, 5.92150199e-02, 5.34603538e-07],\n",
       "       [6.49708273e-04, 3.08766860e-01, 6.90583431e-01],\n",
       "       [1.82170894e-02, 8.55200412e-01, 1.26582498e-01],\n",
       "       [2.30459370e-02, 9.29718379e-01, 4.72356838e-02],\n",
       "       [4.22020136e-05, 8.12514660e-02, 9.18706332e-01],\n",
       "       [9.79914215e-01, 2.00856736e-02, 1.11275686e-07],\n",
       "       [1.76215538e-04, 1.55993121e-01, 8.43830663e-01],\n",
       "       [9.60729360e-01, 3.92697016e-02, 9.37944407e-07],\n",
       "       [9.67043675e-01, 3.29561529e-02, 1.72049327e-07]])"
      ]
     },
     "execution_count": 58,
     "metadata": {},
     "output_type": "execute_result"
    }
   ],
   "source": [
    "lr = LogisticRegression(multi_class='multinomial', random_state=0)\n",
    "lr.fit(X_train, y_train)\n",
    "# lr_preds= lr_clf.predict(X_test)\n",
    "lr.predict_proba(X_test)"
   ]
  },
  {
   "cell_type": "code",
   "execution_count": 59,
   "metadata": {},
   "outputs": [
    {
     "name": "stdout",
     "output_type": "stream",
     "text": [
      "0.9777777777777777\n"
     ]
    }
   ],
   "source": [
    "lr_preds= lr.predict(X_test)\n",
    "print(accuracy_score(y_test, lr_preds))"
   ]
  }
 ],
 "metadata": {
  "kernelspec": {
   "display_name": "Python 3.7.1 64-bit",
   "language": "python",
   "name": "python3"
  },
  "language_info": {
   "codemirror_mode": {
    "name": "ipython",
    "version": 3
   },
   "file_extension": ".py",
   "mimetype": "text/x-python",
   "name": "python",
   "nbconvert_exporter": "python",
   "pygments_lexer": "ipython3",
   "version": "3.7.1"
  },
  "orig_nbformat": 4,
  "vscode": {
   "interpreter": {
    "hash": "31f8360559af503f7d1219287c80e0cc362e8a430fe9b8335f384415946613ec"
   }
  }
 },
 "nbformat": 4,
 "nbformat_minor": 2
}
