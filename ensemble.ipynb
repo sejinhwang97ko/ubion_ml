{
 "cells": [
  {
   "cell_type": "code",
   "execution_count": null,
   "metadata": {},
   "outputs": [],
   "source": []
  },
  {
   "cell_type": "markdown",
   "metadata": {},
   "source": [
    "voting 1. hard: 다수결 2. soft: 각각의 확률의 평균\n",
    "bagging soft인데 각각의 알고리즘에 boot strapping 독립 추출\n",
    "boosting week learner"
   ]
  }
 ],
 "metadata": {
  "language_info": {
   "name": "python"
  },
  "orig_nbformat": 4
 },
 "nbformat": 4,
 "nbformat_minor": 2
}
