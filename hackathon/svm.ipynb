{
 "cells": [
  {
   "cell_type": "code",
   "execution_count": 2,
   "metadata": {},
   "outputs": [],
   "source": [
    "import pandas as pd\n",
    "import numpy as np\n",
    "import matplotlib.pyplot as plt\n",
    "import seaborn as sns"
   ]
  },
  {
   "cell_type": "code",
   "execution_count": null,
   "metadata": {},
   "outputs": [],
   "source": [
    "# from google.colab import drive\n",
    "# drive.mount('/content/drive')"
   ]
  },
  {
   "cell_type": "code",
   "execution_count": null,
   "metadata": {},
   "outputs": [],
   "source": [
    "# train = pd.read_csv(\"/content/drive/MyDrive/ubion/Datasets/train_data.csv\")\n",
    "# test = pd.read_csv(\"/content/drive/MyDrive/ubion/Datasets/test_data.csv\")"
   ]
  },
  {
   "cell_type": "code",
   "execution_count": 3,
   "metadata": {},
   "outputs": [],
   "source": [
    "train = pd.read_csv(\"./train_data.csv\")\n",
    "test = pd.read_csv(\"./test_data.csv\")"
   ]
  },
  {
   "cell_type": "code",
   "execution_count": 4,
   "metadata": {},
   "outputs": [],
   "source": [
    "y_train = train[\"TARGET\"]\n",
    "X_train = train.drop(\"TARGET\", axis=1)"
   ]
  },
  {
   "cell_type": "code",
   "execution_count": 5,
   "metadata": {},
   "outputs": [],
   "source": [
    "y_test = test[\"TARGET\"]\n",
    "X_test = test.drop(\"TARGET\", axis=1)"
   ]
  },
  {
   "cell_type": "code",
   "execution_count": 6,
   "metadata": {},
   "outputs": [],
   "source": [
    "from imblearn.over_sampling import SMOTE\n",
    "# 검증 데이터나 테스트 데이터가 아닌 학습데이터에서만 오버샘플링 사용할 것\n",
    "smote = SMOTE(random_state=11)\n",
    "X_train_smote, y_train_smote = smote.fit_resample(X_train, y_train)"
   ]
  },
  {
   "cell_type": "code",
   "execution_count": 7,
   "metadata": {},
   "outputs": [
    {
     "name": "stdout",
     "output_type": "stream",
     "text": [
      "SMOTE 적용 전 학습용 피처/레이블 데이터 세트:  (203604, 73) (203604,)\n",
      "SMOTE 적용 후 학습용 피처/레이블 데이터 세트:  (374010, 73) (374010,)\n",
      "SMOTE 적용 후 레이블 값 분포: \n",
      " 0    187005\n",
      "1    187005\n",
      "Name: TARGET, dtype: int64\n"
     ]
    }
   ],
   "source": [
    "print('SMOTE 적용 전 학습용 피처/레이블 데이터 세트: ', X_train.shape, y_train.shape)\n",
    "print('SMOTE 적용 후 학습용 피처/레이블 데이터 세트: ', X_train_smote.shape, y_train_smote.shape)\n",
    "print('SMOTE 적용 후 레이블 값 분포: \\n', pd.Series(y_train_smote).value_counts())"
   ]
  },
  {
   "cell_type": "code",
   "execution_count": 8,
   "metadata": {},
   "outputs": [
    {
     "name": "stdout",
     "output_type": "stream",
     "text": [
      "Cross-validation scores: [0.53100184 0.93147242 0.93128526 0.93406593 0.93171306]\n",
      "Average cross-validation score: 0.8519077030025934\n"
     ]
    }
   ],
   "source": [
    "# ## 혼동행렬, 평가\n",
    "from sklearn.metrics import confusion_matrix, accuracy_score, precision_score, recall_score, f1_score\n",
    "\n",
    "## 모델의 예측력 확인\n",
    "from sklearn import svm\n",
    "clf = svm.SVC(random_state=11)\n",
    "\n",
    "from sklearn.model_selection import cross_val_score\n",
    "clf.fit(X_train_smote, y_train_smote)\n",
    "cv_scores = cross_val_score(clf, X_train_smote, y_train_smote, cv=5, scoring='recall', n_jobs=-1) # 예측값 반환 # 지정한 평가 지표에 따라 교차 검증 점수 반환\n",
    "\n",
    "print(\"Cross-validation scores:\", cv_scores)\n",
    "print(\"Average cross-validation score:\", cv_scores.mean())"
   ]
  },
  {
   "cell_type": "code",
   "execution_count": 10,
   "metadata": {},
   "outputs": [
    {
     "data": {
      "text/plain": [
       "['./svm_default.pkl']"
      ]
     },
     "execution_count": 10,
     "metadata": {},
     "output_type": "execute_result"
    }
   ],
   "source": [
    "import joblib\n",
    "joblib.dump(clf, './svm_default.pkl')"
   ]
  },
  {
   "cell_type": "code",
   "execution_count": null,
   "metadata": {},
   "outputs": [],
   "source": [
    "# 저장한 모델을 불러와 사용하기\n",
    "# import joblib\n",
    "# loaded_model = joblib.load('./svm_default.pkl')"
   ]
  },
  {
   "cell_type": "code",
   "execution_count": 9,
   "metadata": {},
   "outputs": [
    {
     "name": "stdout",
     "output_type": "stream",
     "text": [
      "[[46625    45]\n",
      " [ 4258    11]]\n",
      "정확도 91.55\n",
      "정밀도 19.64\n",
      "재현율 0.26\n",
      "F1 0.51\n"
     ]
    }
   ],
   "source": [
    "pred = clf.predict(X_test)\n",
    "\n",
    "test_cm = confusion_matrix(y_test, pred)\n",
    "test_acc = accuracy_score(y_test, pred)\n",
    "test_prc = precision_score(y_test, pred)\n",
    "test_rcll = recall_score(y_test, pred)\n",
    "test_f1 = f1_score(y_test, pred)\n",
    "\n",
    "print(test_cm)\n",
    "print('정확도', round(test_acc*100,2))\n",
    "print('정밀도', round(test_prc*100,2))\n",
    "print('재현율', round(test_rcll*100,2))\n",
    "print('F1',  round(test_f1*100,2))"
   ]
  },
  {
   "attachments": {},
   "cell_type": "markdown",
   "metadata": {},
   "source": [
    "c 적어지면 과적합 방지 outlier 를 좀 유하게 봐주는 것. 선이 단순해짐\n",
    "기본 개념 c 커지면 선이 복잡해짐\n",
    "감마 커지면 가우시안이 점점 좁아짐\n",
    "감마 작아지면 양쪽 퍼져있음, 선이 단순해짐"
   ]
  },
  {
   "cell_type": "code",
   "execution_count": 11,
   "metadata": {},
   "outputs": [],
   "source": [
    "from sklearn.model_selection import GridSearchCV\n",
    "parameters = {'gamma': [0.1,0.05,0.001], 'C':[1, 10, 100]}\n",
    "\n",
    "grid_svc = GridSearchCV(clf, param_grid=parameters, cv = 5)\n",
    "grid_svc.fit(X_train, y_train)\n",
    "\n",
    "print(grid_svc.best_estimator_)\n",
    "print(grid_svc.best_params_)"
   ]
  },
  {
   "cell_type": "code",
   "execution_count": null,
   "metadata": {},
   "outputs": [],
   "source": [
    "clf_gd = grid_svc.best_estimator_\n",
    "pred = clf_gd.predict(X_test)"
   ]
  },
  {
   "cell_type": "code",
   "execution_count": null,
   "metadata": {},
   "outputs": [],
   "source": [
    "test_cm = confusion_matrix(y_test, pred)\n",
    "test_acc = accuracy_score(y_test, pred)\n",
    "test_prc = precision_score(y_test, pred)\n",
    "test_rcll = recall_score(y_test, pred)\n",
    "test_f1 = f1_score(y_test, pred)\n",
    "\n",
    "print(test_cm)\n",
    "print('정확도', round(test_acc*100,2))\n",
    "print('정밀도', round(test_prc*100,2))\n",
    "print('재현율', round(test_rcll*100,2))\n",
    "print('F1',  round(test_f1*100,2))"
   ]
  },
  {
   "cell_type": "code",
   "execution_count": null,
   "metadata": {},
   "outputs": [],
   "source": [
    "import joblib\n",
    "joblib.dump(grid_svc, './grid_svc.pkl')"
   ]
  },
  {
   "cell_type": "code",
   "execution_count": null,
   "metadata": {},
   "outputs": [],
   "source": [
    "import pickle \n",
    "with open('grid_svc_rf.pickle','wb') as fw:\n",
    "    pickle.dump(grid_svc, fw)"
   ]
  }
 ],
 "metadata": {
  "kernelspec": {
   "display_name": "Python 3",
   "language": "python",
   "name": "python3"
  },
  "language_info": {
   "codemirror_mode": {
    "name": "ipython",
    "version": 3
   },
   "file_extension": ".py",
   "mimetype": "text/x-python",
   "name": "python",
   "nbconvert_exporter": "python",
   "pygments_lexer": "ipython3",
   "version": "3.7.1"
  },
  "orig_nbformat": 4
 },
 "nbformat": 4,
 "nbformat_minor": 2
}
