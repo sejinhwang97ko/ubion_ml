{
 "cells": [
  {
   "cell_type": "markdown",
   "metadata": {},
   "source": [
    "## sklearn.metrics.accuracy_score\n",
    "* sklearn.metrics.accuracy_score(y_true, y_pred, *, normalize=True, sample_weight=None)"
   ]
  },
  {
   "cell_type": "markdown",
   "metadata": {},
   "source": [
    "## sklearn.metrics.precision_score\n",
    "* sklearn.metrics.precision_score(y_true, y_pred, *, labels=None, pos_label=1, average='binary', sample_weight=None, zero_division='warn')"
   ]
  },
  {
   "cell_type": "markdown",
   "metadata": {},
   "source": [
    "## sklearn.metrics.recall_score\n",
    "* sklearn.metrics.recall_score(y_true, y_pred, *, labels=None, pos_label=1, average='binary', sample_weight=None, zero_division='warn')"
   ]
  },
  {
   "cell_type": "markdown",
   "metadata": {},
   "source": [
    "## sklearn.metrics.confusion_matrix\n",
    "* sklearn.metrics.confusion_matrix(y_true, y_pred, *, labels=None, sample_weight=None, normalize=None)"
   ]
  },
  {
   "cell_type": "markdown",
   "metadata": {},
   "source": [
    "## sklearn.metrics.f1_score\n",
    "* sklearn.metrics.f1_score(y_true, y_pred, *, labels=None, pos_label=1, average='binary', sample_weight=None, zero_division='warn')"
   ]
  },
  {
   "cell_type": "code",
   "execution_count": 1,
   "metadata": {},
   "outputs": [],
   "source": [
    "from sklearn.metrics import accuracy_score, precision_score, recall_score, confusion_matrix, f1_score\n",
    "\n",
    "def get_clf_eval(y_test, pred):\n",
    "    confusion = confusion_matrix(y_test,pred)\n",
    "    accuracy = accuracy_score(y_test,pred)\n",
    "    precision = precision_score(y_test,pred)\n",
    "    recall = recall_score(y_test,pred)\n",
    "    f1 = f1_score(y_test, lr_pred)\n",
    "    print('오차 행렬')\n",
    "    print(confusion)\n",
    "    print(f'정확도: {accuracy:.4f}, 정밀도: {precision:.4f}, 재현율:{recall:.4f}, F1:{f1:.4f}')"
   ]
  },
  {
   "cell_type": "code",
   "execution_count": 2,
   "metadata": {},
   "outputs": [
    {
     "data": {
      "text/html": [
       "<div>\n",
       "<style scoped>\n",
       "    .dataframe tbody tr th:only-of-type {\n",
       "        vertical-align: middle;\n",
       "    }\n",
       "\n",
       "    .dataframe tbody tr th {\n",
       "        vertical-align: top;\n",
       "    }\n",
       "\n",
       "    .dataframe thead th {\n",
       "        text-align: right;\n",
       "    }\n",
       "</style>\n",
       "<table border=\"1\" class=\"dataframe\">\n",
       "  <thead>\n",
       "    <tr style=\"text-align: right;\">\n",
       "      <th></th>\n",
       "      <th>PassengerId</th>\n",
       "      <th>Survived</th>\n",
       "      <th>Pclass</th>\n",
       "      <th>Name</th>\n",
       "      <th>Sex</th>\n",
       "      <th>Age</th>\n",
       "      <th>SibSp</th>\n",
       "      <th>Parch</th>\n",
       "      <th>Ticket</th>\n",
       "      <th>Fare</th>\n",
       "      <th>Cabin</th>\n",
       "      <th>Embarked</th>\n",
       "    </tr>\n",
       "  </thead>\n",
       "  <tbody>\n",
       "    <tr>\n",
       "      <th>0</th>\n",
       "      <td>1</td>\n",
       "      <td>0</td>\n",
       "      <td>3</td>\n",
       "      <td>Braund, Mr. Owen Harris</td>\n",
       "      <td>male</td>\n",
       "      <td>22.0</td>\n",
       "      <td>1</td>\n",
       "      <td>0</td>\n",
       "      <td>A/5 21171</td>\n",
       "      <td>7.2500</td>\n",
       "      <td>NaN</td>\n",
       "      <td>S</td>\n",
       "    </tr>\n",
       "    <tr>\n",
       "      <th>1</th>\n",
       "      <td>2</td>\n",
       "      <td>1</td>\n",
       "      <td>1</td>\n",
       "      <td>Cumings, Mrs. John Bradley (Florence Briggs Th...</td>\n",
       "      <td>female</td>\n",
       "      <td>38.0</td>\n",
       "      <td>1</td>\n",
       "      <td>0</td>\n",
       "      <td>PC 17599</td>\n",
       "      <td>71.2833</td>\n",
       "      <td>C85</td>\n",
       "      <td>C</td>\n",
       "    </tr>\n",
       "    <tr>\n",
       "      <th>2</th>\n",
       "      <td>3</td>\n",
       "      <td>1</td>\n",
       "      <td>3</td>\n",
       "      <td>Heikkinen, Miss. Laina</td>\n",
       "      <td>female</td>\n",
       "      <td>26.0</td>\n",
       "      <td>0</td>\n",
       "      <td>0</td>\n",
       "      <td>STON/O2. 3101282</td>\n",
       "      <td>7.9250</td>\n",
       "      <td>NaN</td>\n",
       "      <td>S</td>\n",
       "    </tr>\n",
       "  </tbody>\n",
       "</table>\n",
       "</div>"
      ],
      "text/plain": [
       "   PassengerId  Survived  Pclass  \\\n",
       "0            1         0       3   \n",
       "1            2         1       1   \n",
       "2            3         1       3   \n",
       "\n",
       "                                                Name     Sex   Age  SibSp  \\\n",
       "0                            Braund, Mr. Owen Harris    male  22.0      1   \n",
       "1  Cumings, Mrs. John Bradley (Florence Briggs Th...  female  38.0      1   \n",
       "2                             Heikkinen, Miss. Laina  female  26.0      0   \n",
       "\n",
       "   Parch            Ticket     Fare Cabin Embarked  \n",
       "0      0         A/5 21171   7.2500   NaN        S  \n",
       "1      0          PC 17599  71.2833   C85        C  \n",
       "2      0  STON/O2. 3101282   7.9250   NaN        S  "
      ]
     },
     "execution_count": 2,
     "metadata": {},
     "output_type": "execute_result"
    }
   ],
   "source": [
    "import numpy as np\n",
    "import pandas as pd\n",
    "import matplotlib.pyplot as plt\n",
    "import seaborn as sns\n",
    "from sklearn.preprocessing import LabelEncoder\n",
    "\n",
    "titanic_df = pd.read_csv('./datasets/titanic_train.csv')\n",
    "titanic_df.head(3)"
   ]
  },
  {
   "cell_type": "code",
   "execution_count": 3,
   "metadata": {},
   "outputs": [],
   "source": [
    "def fillna_features(df):\n",
    "    df['Age'].fillna(df['Age'].mean(),inplace=True)\n",
    "    return df\n",
    "\n",
    "def drop_features(df):\n",
    "    df.drop(['PassengerId', 'Name', 'SibSp',\n",
    "       'Parch', 'Ticket', 'Fare', 'Cabin', 'Embarked'],axis=1,inplace=True)\n",
    "    return df\n",
    "\n",
    "def format_features(df):\n",
    "    encoder = LabelEncoder()\n",
    "    encoder.fit(df['Sex'])\n",
    "    df['Sex'] = encoder.transform(df['Sex'])\n",
    "    return df\n",
    "\n",
    "def transform_features(df):\n",
    "    df = fillna_features(df)\n",
    "    df = drop_features(df)\n",
    "    df = format_features(df)\n",
    "    return df"
   ]
  },
  {
   "cell_type": "code",
   "execution_count": 4,
   "metadata": {},
   "outputs": [],
   "source": [
    "y_titanic_df = titanic_df['Survived']\n",
    "X_titanic_df= titanic_df.drop('Survived',axis=1)\n",
    "X_titanic_df = transform_features(X_titanic_df)\n",
    "from sklearn.model_selection import train_test_split\n",
    "X_train, X_test, y_train, y_test=train_test_split(X_titanic_df, y_titanic_df, \\\n",
    "                                                  test_size=0.2, random_state=11)"
   ]
  },
  {
   "cell_type": "code",
   "execution_count": 5,
   "metadata": {},
   "outputs": [
    {
     "name": "stdout",
     "output_type": "stream",
     "text": [
      "오차 행렬\n",
      "[[100  18]\n",
      " [ 13  48]]\n",
      "정확도: 0.8268, 정밀도: 0.7273, 재현율:0.7869, F1:0.7559\n"
     ]
    }
   ],
   "source": [
    "from sklearn.linear_model import LogisticRegression\n",
    "lr_clf = LogisticRegression()\n",
    "lr_clf.fit(X_train , y_train)\n",
    "lr_pred = lr_clf.predict(X_test)\n",
    "get_clf_eval(y_test,lr_pred)"
   ]
  },
  {
   "cell_type": "code",
   "execution_count": 7,
   "metadata": {},
   "outputs": [
    {
     "data": {
      "text/plain": [
       "array([[0.44781358, 0.55218642],\n",
       "       [0.89023075, 0.10976925],\n",
       "       [0.89752171, 0.10247829],\n",
       "       [0.86466451, 0.13533549],\n",
       "       [0.75812794, 0.24187206],\n",
       "       [0.85434917, 0.14565083],\n",
       "       [0.89752171, 0.10247829],\n",
       "       [0.33510303, 0.66489697],\n",
       "       [0.71971405, 0.28028595],\n",
       "       [0.32644462, 0.67355538],\n",
       "       [0.87119387, 0.12880613],\n",
       "       [0.86256142, 0.13743858],\n",
       "       [0.89752171, 0.10247829],\n",
       "       [0.89752171, 0.10247829],\n",
       "       [0.49595405, 0.50404595],\n",
       "       [0.87551989, 0.12448011],\n",
       "       [0.89752171, 0.10247829],\n",
       "       [0.71971405, 0.28028595],\n",
       "       [0.63693828, 0.36306172],\n",
       "       [0.26366186, 0.73633814],\n",
       "       [0.73662511, 0.26337489],\n",
       "       [0.63032568, 0.36967432],\n",
       "       [0.87238203, 0.12761797],\n",
       "       [0.87551989, 0.12448011],\n",
       "       [0.89752171, 0.10247829],\n",
       "       [0.7459071 , 0.2540929 ],\n",
       "       [0.8317686 , 0.1682314 ],\n",
       "       [0.89752171, 0.10247829],\n",
       "       [0.70807897, 0.29192103],\n",
       "       [0.61020101, 0.38979899],\n",
       "       [0.08350277, 0.91649723],\n",
       "       [0.22744251, 0.77255749],\n",
       "       [0.89023075, 0.10976925],\n",
       "       [0.28058432, 0.71941568],\n",
       "       [0.63032568, 0.36967432],\n",
       "       [0.7459071 , 0.2540929 ],\n",
       "       [0.90585253, 0.09414747],\n",
       "       [0.38762445, 0.61237555],\n",
       "       [0.91513088, 0.08486912],\n",
       "       [0.90339492, 0.09660508],\n",
       "       [0.70807897, 0.29192103],\n",
       "       [0.88741603, 0.11258397],\n",
       "       [0.2104012 , 0.7895988 ],\n",
       "       [0.18771337, 0.81228663],\n",
       "       [0.44781358, 0.55218642],\n",
       "       [0.44781358, 0.55218642],\n",
       "       [0.13974673, 0.86025327],\n",
       "       [0.50673646, 0.49326354],\n",
       "       [0.07001181, 0.92998819],\n",
       "       [0.89752171, 0.10247829],\n",
       "       [0.49595405, 0.50404595],\n",
       "       [0.89752171, 0.10247829],\n",
       "       [0.88159724, 0.11840276],\n",
       "       [0.28637012, 0.71362988],\n",
       "       [0.6839814 , 0.3160186 ],\n",
       "       [0.78085036, 0.21914964],\n",
       "       [0.72896639, 0.27103361],\n",
       "       [0.89752171, 0.10247829],\n",
       "       [0.86590363, 0.13409637],\n",
       "       [0.49595405, 0.50404595],\n",
       "       [0.70807897, 0.29192103],\n",
       "       [0.8845385 , 0.1154615 ],\n",
       "       [0.49595405, 0.50404595],\n",
       "       [0.49595405, 0.50404595],\n",
       "       [0.67546629, 0.32453371],\n",
       "       [0.9106002 , 0.0893998 ],\n",
       "       [0.39440739, 0.60559261],\n",
       "       [0.45699349, 0.54300651],\n",
       "       [0.05809047, 0.94190953],\n",
       "       [0.89752171, 0.10247829],\n",
       "       [0.85914946, 0.14085054],\n",
       "       [0.85566697, 0.14433303],\n",
       "       [0.90339492, 0.09660508],\n",
       "       [0.06128733, 0.93871267],\n",
       "       [0.77840333, 0.22159667],\n",
       "       [0.89752171, 0.10247829],\n",
       "       [0.56448579, 0.43551421],\n",
       "       [0.79279284, 0.20720716],\n",
       "       [0.17502936, 0.82497064],\n",
       "       [0.89752171, 0.10247829],\n",
       "       [0.23503773, 0.76496227],\n",
       "       [0.44289439, 0.55710561],\n",
       "       [0.08350277, 0.91649723],\n",
       "       [0.80648026, 0.19351974],\n",
       "       [0.06639205, 0.93360795],\n",
       "       [0.05966885, 0.94033115],\n",
       "       [0.89433708, 0.10566292],\n",
       "       [0.89567546, 0.10432454],\n",
       "       [0.12464135, 0.87535865],\n",
       "       [0.89752171, 0.10247829],\n",
       "       [0.89752171, 0.10247829],\n",
       "       [0.7459071 , 0.2540929 ],\n",
       "       [0.73662511, 0.26337489],\n",
       "       [0.89752171, 0.10247829],\n",
       "       [0.44781358, 0.55218642],\n",
       "       [0.9255586 , 0.0744414 ],\n",
       "       [0.06817967, 0.93182033],\n",
       "       [0.90585253, 0.09414747],\n",
       "       [0.56187069, 0.43812931],\n",
       "       [0.07188938, 0.92811062],\n",
       "       [0.38762445, 0.61237555],\n",
       "       [0.79453364, 0.20546636],\n",
       "       [0.08199128, 0.91800872],\n",
       "       [0.90825397, 0.09174603],\n",
       "       [0.43587775, 0.56412225],\n",
       "       [0.8845385 , 0.1154615 ],\n",
       "       [0.87551989, 0.12448011],\n",
       "       [0.89752171, 0.10247829],\n",
       "       [0.32253081, 0.67746919],\n",
       "       [0.89752171, 0.10247829],\n",
       "       [0.85434917, 0.14565083],\n",
       "       [0.89960109, 0.10039891],\n",
       "       [0.57147543, 0.42852457],\n",
       "       [0.46964837, 0.53035163],\n",
       "       [0.89752171, 0.10247829],\n",
       "       [0.89298358, 0.10701642],\n",
       "       [0.84711578, 0.15288422],\n",
       "       [0.77840333, 0.22159667],\n",
       "       [0.12043586, 0.87956414],\n",
       "       [0.93123662, 0.06876338],\n",
       "       [0.89752171, 0.10247829],\n",
       "       [0.88741603, 0.11258397],\n",
       "       [0.92153686, 0.07846314],\n",
       "       [0.57732555, 0.42267445],\n",
       "       [0.89752171, 0.10247829],\n",
       "       [0.89752171, 0.10247829],\n",
       "       [0.86256142, 0.13743858],\n",
       "       [0.67779219, 0.32220781],\n",
       "       [0.36754443, 0.63245557],\n",
       "       [0.761387  , 0.238613  ],\n",
       "       [0.07188938, 0.92811062],\n",
       "       [0.53365279, 0.46634721],\n",
       "       [0.34147941, 0.65852059],\n",
       "       [0.51385473, 0.48614527],\n",
       "       [0.42192392, 0.57807608],\n",
       "       [0.51385473, 0.48614527],\n",
       "       [0.23503773, 0.76496227],\n",
       "       [0.75617335, 0.24382665],\n",
       "       [0.90339492, 0.09660508],\n",
       "       [0.12348616, 0.87651384],\n",
       "       [0.13974673, 0.86025327],\n",
       "       [0.89752171, 0.10247829],\n",
       "       [0.90088018, 0.09911982],\n",
       "       [0.8081339 , 0.1918661 ],\n",
       "       [0.91289218, 0.08710782],\n",
       "       [0.18771337, 0.81228663],\n",
       "       [0.9255586 , 0.0744414 ],\n",
       "       [0.67546629, 0.32453371],\n",
       "       [0.08350277, 0.91649723],\n",
       "       [0.76842062, 0.23157938],\n",
       "       [0.49595405, 0.50404595],\n",
       "       [0.40809364, 0.59190636],\n",
       "       [0.36754443, 0.63245557],\n",
       "       [0.89752171, 0.10247829],\n",
       "       [0.18771337, 0.81228663],\n",
       "       [0.07188938, 0.92811062],\n",
       "       [0.49097623, 0.50902377],\n",
       "       [0.88159724, 0.11840276],\n",
       "       [0.31021021, 0.68978979],\n",
       "       [0.39440739, 0.60559261],\n",
       "       [0.86917689, 0.13082311],\n",
       "       [0.18771337, 0.81228663],\n",
       "       [0.91289218, 0.08710782],\n",
       "       [0.39440739, 0.60559261],\n",
       "       [0.44781358, 0.55218642],\n",
       "       [0.40809364, 0.59190636],\n",
       "       [0.1615851 , 0.8384149 ],\n",
       "       [0.60340466, 0.39659534],\n",
       "       [0.91289218, 0.08710782],\n",
       "       [0.09098629, 0.90901371],\n",
       "       [0.89752171, 0.10247829],\n",
       "       [0.1156126 , 0.8843874 ],\n",
       "       [0.7421142 , 0.2578858 ],\n",
       "       [0.69616481, 0.30383519],\n",
       "       [0.52807156, 0.47192844],\n",
       "       [0.93651127, 0.06348873],\n",
       "       [0.87551989, 0.12448011],\n",
       "       [0.49595405, 0.50404595],\n",
       "       [0.4625598 , 0.5374402 ]])"
      ]
     },
     "execution_count": 7,
     "metadata": {},
     "output_type": "execute_result"
    }
   ],
   "source": [
    "lr_clf.predict_proba(X_test)"
   ]
  },
  {
   "cell_type": "code",
   "execution_count": 9,
   "metadata": {},
   "outputs": [
    {
     "data": {
      "text/plain": [
       "array([0.55218642, 0.10976925, 0.10247829, 0.13533549, 0.24187206,\n",
       "       0.14565083, 0.10247829, 0.66489697, 0.28028595, 0.67355538,\n",
       "       0.12880613, 0.13743858, 0.10247829, 0.10247829, 0.50404595,\n",
       "       0.12448011, 0.10247829, 0.28028595, 0.36306172, 0.73633814,\n",
       "       0.26337489, 0.36967432, 0.12761797, 0.12448011, 0.10247829,\n",
       "       0.2540929 , 0.1682314 , 0.10247829, 0.29192103, 0.38979899,\n",
       "       0.91649723, 0.77255749, 0.10976925, 0.71941568, 0.36967432,\n",
       "       0.2540929 , 0.09414747, 0.61237555, 0.08486912, 0.09660508,\n",
       "       0.29192103, 0.11258397, 0.7895988 , 0.81228663, 0.55218642,\n",
       "       0.55218642, 0.86025327, 0.49326354, 0.92998819, 0.10247829,\n",
       "       0.50404595, 0.10247829, 0.11840276, 0.71362988, 0.3160186 ,\n",
       "       0.21914964, 0.27103361, 0.10247829, 0.13409637, 0.50404595,\n",
       "       0.29192103, 0.1154615 , 0.50404595, 0.50404595, 0.32453371,\n",
       "       0.0893998 , 0.60559261, 0.54300651, 0.94190953, 0.10247829,\n",
       "       0.14085054, 0.14433303, 0.09660508, 0.93871267, 0.22159667,\n",
       "       0.10247829, 0.43551421, 0.20720716, 0.82497064, 0.10247829,\n",
       "       0.76496227, 0.55710561, 0.91649723, 0.19351974, 0.93360795,\n",
       "       0.94033115, 0.10566292, 0.10432454, 0.87535865, 0.10247829,\n",
       "       0.10247829, 0.2540929 , 0.26337489, 0.10247829, 0.55218642,\n",
       "       0.0744414 , 0.93182033, 0.09414747, 0.43812931, 0.92811062,\n",
       "       0.61237555, 0.20546636, 0.91800872, 0.09174603, 0.56412225,\n",
       "       0.1154615 , 0.12448011, 0.10247829, 0.67746919, 0.10247829,\n",
       "       0.14565083, 0.10039891, 0.42852457, 0.53035163, 0.10247829,\n",
       "       0.10701642, 0.15288422, 0.22159667, 0.87956414, 0.06876338,\n",
       "       0.10247829, 0.11258397, 0.07846314, 0.42267445, 0.10247829,\n",
       "       0.10247829, 0.13743858, 0.32220781, 0.63245557, 0.238613  ,\n",
       "       0.92811062, 0.46634721, 0.65852059, 0.48614527, 0.57807608,\n",
       "       0.48614527, 0.76496227, 0.24382665, 0.09660508, 0.87651384,\n",
       "       0.86025327, 0.10247829, 0.09911982, 0.1918661 , 0.08710782,\n",
       "       0.81228663, 0.0744414 , 0.32453371, 0.91649723, 0.23157938,\n",
       "       0.50404595, 0.59190636, 0.63245557, 0.10247829, 0.81228663,\n",
       "       0.92811062, 0.50902377, 0.11840276, 0.68978979, 0.60559261,\n",
       "       0.13082311, 0.81228663, 0.08710782, 0.60559261, 0.55218642,\n",
       "       0.59190636, 0.8384149 , 0.39659534, 0.08710782, 0.90901371,\n",
       "       0.10247829, 0.8843874 , 0.2578858 , 0.30383519, 0.47192844,\n",
       "       0.06348873, 0.12448011, 0.50404595, 0.5374402 ])"
      ]
     },
     "execution_count": 9,
     "metadata": {},
     "output_type": "execute_result"
    }
   ],
   "source": [
    "lr_clf.predict_proba(X_test)[:,1]"
   ]
  },
  {
   "cell_type": "markdown",
   "metadata": {},
   "source": [
    "## sklearn.metrics.precision_recall_curve\n",
    "* sklearn.metrics.precision_recall_curve(y_true, probas_pred, *, pos_label=None, sample_weight=None)"
   ]
  },
  {
   "cell_type": "code",
   "execution_count": 11,
   "metadata": {},
   "outputs": [],
   "source": [
    "from sklearn.metrics import precision_recall_curve\n",
    "import matplotlib.pyplot as plt"
   ]
  },
  {
   "cell_type": "code",
   "execution_count": 13,
   "metadata": {},
   "outputs": [],
   "source": [
    "precisions, recalls, thresholds = precision_recall_curve(y_test, lr_clf.predict_proba(X_test)[:,1])"
   ]
  },
  {
   "cell_type": "code",
   "execution_count": 15,
   "metadata": {},
   "outputs": [
    {
     "data": {
      "text/plain": [
       "(98,)"
      ]
     },
     "execution_count": 15,
     "metadata": {},
     "output_type": "execute_result"
    }
   ],
   "source": [
    "precisions.shape"
   ]
  },
  {
   "cell_type": "code",
   "execution_count": 16,
   "metadata": {},
   "outputs": [
    {
     "data": {
      "text/plain": [
       "(98,)"
      ]
     },
     "execution_count": 16,
     "metadata": {},
     "output_type": "execute_result"
    }
   ],
   "source": [
    "recalls.shape"
   ]
  },
  {
   "cell_type": "code",
   "execution_count": 14,
   "metadata": {},
   "outputs": [
    {
     "ename": "ValueError",
     "evalue": "x and y must have same first dimension, but have shapes (97,) and (98,)",
     "output_type": "error",
     "traceback": [
      "\u001b[1;31m---------------------------------------------------------------------------\u001b[0m",
      "\u001b[1;31mValueError\u001b[0m                                Traceback (most recent call last)",
      "\u001b[1;32m~\\AppData\\Local\\Temp\\ipykernel_17924\\2732835192.py\u001b[0m in \u001b[0;36m<module>\u001b[1;34m\u001b[0m\n\u001b[1;32m----> 1\u001b[1;33m \u001b[0mplt\u001b[0m\u001b[1;33m.\u001b[0m\u001b[0mplot\u001b[0m\u001b[1;33m(\u001b[0m\u001b[0mthresholds\u001b[0m\u001b[1;33m,\u001b[0m \u001b[0mprecisions\u001b[0m\u001b[1;33m)\u001b[0m\u001b[1;33m\u001b[0m\u001b[1;33m\u001b[0m\u001b[0m\n\u001b[0m\u001b[0;32m      2\u001b[0m \u001b[0mplt\u001b[0m\u001b[1;33m.\u001b[0m\u001b[0mplot\u001b[0m\u001b[1;33m(\u001b[0m\u001b[0mthresholds\u001b[0m\u001b[1;33m,\u001b[0m \u001b[0mrecalls\u001b[0m\u001b[1;33m)\u001b[0m\u001b[1;33m\u001b[0m\u001b[1;33m\u001b[0m\u001b[0m\n\u001b[0;32m      3\u001b[0m \u001b[0mplt\u001b[0m\u001b[1;33m.\u001b[0m\u001b[0mxlabel\u001b[0m\u001b[1;33m(\u001b[0m\u001b[1;34m'threshold'\u001b[0m\u001b[1;33m)\u001b[0m\u001b[1;33m\u001b[0m\u001b[1;33m\u001b[0m\u001b[0m\n\u001b[0;32m      4\u001b[0m \u001b[0mplt\u001b[0m\u001b[1;33m.\u001b[0m\u001b[0mylabel\u001b[0m\u001b[1;33m(\u001b[0m\u001b[1;34m'probability density'\u001b[0m\u001b[1;33m)\u001b[0m\u001b[1;33m\u001b[0m\u001b[1;33m\u001b[0m\u001b[0m\n\u001b[0;32m      5\u001b[0m \u001b[0mplt\u001b[0m\u001b[1;33m.\u001b[0m\u001b[0mshow\u001b[0m\u001b[1;33m(\u001b[0m\u001b[1;33m)\u001b[0m\u001b[1;33m\u001b[0m\u001b[1;33m\u001b[0m\u001b[0m\n",
      "\u001b[1;32mc:\\Python 3.7.1\\lib\\site-packages\\matplotlib\\pyplot.py\u001b[0m in \u001b[0;36mplot\u001b[1;34m(scalex, scaley, data, *args, **kwargs)\u001b[0m\n\u001b[0;32m   2767\u001b[0m     return gca().plot(\n\u001b[0;32m   2768\u001b[0m         \u001b[1;33m*\u001b[0m\u001b[0margs\u001b[0m\u001b[1;33m,\u001b[0m \u001b[0mscalex\u001b[0m\u001b[1;33m=\u001b[0m\u001b[0mscalex\u001b[0m\u001b[1;33m,\u001b[0m \u001b[0mscaley\u001b[0m\u001b[1;33m=\u001b[0m\u001b[0mscaley\u001b[0m\u001b[1;33m,\u001b[0m\u001b[1;33m\u001b[0m\u001b[1;33m\u001b[0m\u001b[0m\n\u001b[1;32m-> 2769\u001b[1;33m         **({\"data\": data} if data is not None else {}), **kwargs)\n\u001b[0m\u001b[0;32m   2770\u001b[0m \u001b[1;33m\u001b[0m\u001b[0m\n\u001b[0;32m   2771\u001b[0m \u001b[1;33m\u001b[0m\u001b[0m\n",
      "\u001b[1;32mc:\\Python 3.7.1\\lib\\site-packages\\matplotlib\\axes\\_axes.py\u001b[0m in \u001b[0;36mplot\u001b[1;34m(self, scalex, scaley, data, *args, **kwargs)\u001b[0m\n\u001b[0;32m   1633\u001b[0m         \"\"\"\n\u001b[0;32m   1634\u001b[0m         \u001b[0mkwargs\u001b[0m \u001b[1;33m=\u001b[0m \u001b[0mcbook\u001b[0m\u001b[1;33m.\u001b[0m\u001b[0mnormalize_kwargs\u001b[0m\u001b[1;33m(\u001b[0m\u001b[0mkwargs\u001b[0m\u001b[1;33m,\u001b[0m \u001b[0mmlines\u001b[0m\u001b[1;33m.\u001b[0m\u001b[0mLine2D\u001b[0m\u001b[1;33m)\u001b[0m\u001b[1;33m\u001b[0m\u001b[1;33m\u001b[0m\u001b[0m\n\u001b[1;32m-> 1635\u001b[1;33m         \u001b[0mlines\u001b[0m \u001b[1;33m=\u001b[0m \u001b[1;33m[\u001b[0m\u001b[1;33m*\u001b[0m\u001b[0mself\u001b[0m\u001b[1;33m.\u001b[0m\u001b[0m_get_lines\u001b[0m\u001b[1;33m(\u001b[0m\u001b[1;33m*\u001b[0m\u001b[0margs\u001b[0m\u001b[1;33m,\u001b[0m \u001b[0mdata\u001b[0m\u001b[1;33m=\u001b[0m\u001b[0mdata\u001b[0m\u001b[1;33m,\u001b[0m \u001b[1;33m**\u001b[0m\u001b[0mkwargs\u001b[0m\u001b[1;33m)\u001b[0m\u001b[1;33m]\u001b[0m\u001b[1;33m\u001b[0m\u001b[1;33m\u001b[0m\u001b[0m\n\u001b[0m\u001b[0;32m   1636\u001b[0m         \u001b[1;32mfor\u001b[0m \u001b[0mline\u001b[0m \u001b[1;32min\u001b[0m \u001b[0mlines\u001b[0m\u001b[1;33m:\u001b[0m\u001b[1;33m\u001b[0m\u001b[1;33m\u001b[0m\u001b[0m\n\u001b[0;32m   1637\u001b[0m             \u001b[0mself\u001b[0m\u001b[1;33m.\u001b[0m\u001b[0madd_line\u001b[0m\u001b[1;33m(\u001b[0m\u001b[0mline\u001b[0m\u001b[1;33m)\u001b[0m\u001b[1;33m\u001b[0m\u001b[1;33m\u001b[0m\u001b[0m\n",
      "\u001b[1;32mc:\\Python 3.7.1\\lib\\site-packages\\matplotlib\\axes\\_base.py\u001b[0m in \u001b[0;36m__call__\u001b[1;34m(self, data, *args, **kwargs)\u001b[0m\n\u001b[0;32m    310\u001b[0m                 \u001b[0mthis\u001b[0m \u001b[1;33m+=\u001b[0m \u001b[0margs\u001b[0m\u001b[1;33m[\u001b[0m\u001b[1;36m0\u001b[0m\u001b[1;33m]\u001b[0m\u001b[1;33m,\u001b[0m\u001b[1;33m\u001b[0m\u001b[1;33m\u001b[0m\u001b[0m\n\u001b[0;32m    311\u001b[0m                 \u001b[0margs\u001b[0m \u001b[1;33m=\u001b[0m \u001b[0margs\u001b[0m\u001b[1;33m[\u001b[0m\u001b[1;36m1\u001b[0m\u001b[1;33m:\u001b[0m\u001b[1;33m]\u001b[0m\u001b[1;33m\u001b[0m\u001b[1;33m\u001b[0m\u001b[0m\n\u001b[1;32m--> 312\u001b[1;33m             \u001b[1;32myield\u001b[0m \u001b[1;32mfrom\u001b[0m \u001b[0mself\u001b[0m\u001b[1;33m.\u001b[0m\u001b[0m_plot_args\u001b[0m\u001b[1;33m(\u001b[0m\u001b[0mthis\u001b[0m\u001b[1;33m,\u001b[0m \u001b[0mkwargs\u001b[0m\u001b[1;33m)\u001b[0m\u001b[1;33m\u001b[0m\u001b[1;33m\u001b[0m\u001b[0m\n\u001b[0m\u001b[0;32m    313\u001b[0m \u001b[1;33m\u001b[0m\u001b[0m\n\u001b[0;32m    314\u001b[0m     \u001b[1;32mdef\u001b[0m \u001b[0mget_next_color\u001b[0m\u001b[1;33m(\u001b[0m\u001b[0mself\u001b[0m\u001b[1;33m)\u001b[0m\u001b[1;33m:\u001b[0m\u001b[1;33m\u001b[0m\u001b[1;33m\u001b[0m\u001b[0m\n",
      "\u001b[1;32mc:\\Python 3.7.1\\lib\\site-packages\\matplotlib\\axes\\_base.py\u001b[0m in \u001b[0;36m_plot_args\u001b[1;34m(self, tup, kwargs, return_kwargs)\u001b[0m\n\u001b[0;32m    496\u001b[0m \u001b[1;33m\u001b[0m\u001b[0m\n\u001b[0;32m    497\u001b[0m         \u001b[1;32mif\u001b[0m \u001b[0mx\u001b[0m\u001b[1;33m.\u001b[0m\u001b[0mshape\u001b[0m\u001b[1;33m[\u001b[0m\u001b[1;36m0\u001b[0m\u001b[1;33m]\u001b[0m \u001b[1;33m!=\u001b[0m \u001b[0my\u001b[0m\u001b[1;33m.\u001b[0m\u001b[0mshape\u001b[0m\u001b[1;33m[\u001b[0m\u001b[1;36m0\u001b[0m\u001b[1;33m]\u001b[0m\u001b[1;33m:\u001b[0m\u001b[1;33m\u001b[0m\u001b[1;33m\u001b[0m\u001b[0m\n\u001b[1;32m--> 498\u001b[1;33m             raise ValueError(f\"x and y must have same first dimension, but \"\n\u001b[0m\u001b[0;32m    499\u001b[0m                              f\"have shapes {x.shape} and {y.shape}\")\n\u001b[0;32m    500\u001b[0m         \u001b[1;32mif\u001b[0m \u001b[0mx\u001b[0m\u001b[1;33m.\u001b[0m\u001b[0mndim\u001b[0m \u001b[1;33m>\u001b[0m \u001b[1;36m2\u001b[0m \u001b[1;32mor\u001b[0m \u001b[0my\u001b[0m\u001b[1;33m.\u001b[0m\u001b[0mndim\u001b[0m \u001b[1;33m>\u001b[0m \u001b[1;36m2\u001b[0m\u001b[1;33m:\u001b[0m\u001b[1;33m\u001b[0m\u001b[1;33m\u001b[0m\u001b[0m\n",
      "\u001b[1;31mValueError\u001b[0m: x and y must have same first dimension, but have shapes (97,) and (98,)"
     ]
    },
    {
     "data": {
      "image/png": "[encoded data removed]",
      "text/plain": [
       "<Figure size 640x480 with 1 Axes>"
      ]
     },
     "metadata": {},
     "output_type": "display_data"
    }
   ],
   "source": [
    "plt.plot(thresholds, precisions)\n",
    "plt.plot(thresholds, recalls)\n",
    "plt.xlabel('threshold')\n",
    "plt.ylabel('probability density')\n",
    "plt.show()"
   ]
  },
  {
   "cell_type": "code",
   "execution_count": null,
   "metadata": {},
   "outputs": [],
   "source": []
  }
 ],
 "metadata": {
  "kernelspec": {
   "display_name": "Python 3.7.1 64-bit",
   "language": "python",
   "name": "python3"
  },
  "language_info": {
   "codemirror_mode": {
    "name": "ipython",
    "version": 3
   },
   "file_extension": ".py",
   "mimetype": "text/x-python",
   "name": "python",
   "nbconvert_exporter": "python",
   "pygments_lexer": "ipython3",
   "version": "3.7.1"
  },
  "orig_nbformat": 4,
  "vscode": {
   "interpreter": {
    "hash": "31f8360559af503f7d1219287c80e0cc362e8a430fe9b8335f384415946613ec"
   }
  }
 },
 "nbformat": 4,
 "nbformat_minor": 2
}
